{
 "cells": [
  {
   "cell_type": "code",
   "execution_count": 4,
   "metadata": {},
   "outputs": [],
   "source": [
    "# myspider.py 파일로 저장\n",
    "\n",
    "import scrapy\n",
    "\n",
    "class BlogSpider(scrapy.Spider):\n",
    "    # spider의 이름\n",
    "    name = 'blogspider'\n",
    "    # 크롤링을 시작할 URL 리스트\n",
    "    start_urls = ['https://blog.scrapinghub.com']\n",
    "    \n",
    "    def parse(self, response):\n",
    "        \"\"\"\n",
    "        최상위 페이지에서 카테고리 페이지의 링크를 추출합니다.\n",
    "        \"\"\"\n",
    "        for url in response.css('ul li a::attr(\"href\")').re('.*tag/.*'):\n",
    "            yield scrapy.Request(response.urljoin(url), self.parse_titles)\n",
    "            \n",
    "        def parse_titles(self, response):\n",
    "            \"\"\"\n",
    "            카테고리 페이지에서 키테고리 타이틀을 모두 추출합니다\n",
    "            \"\"\"\n",
    "            for post_title in response.css('div.post-header > h2 > a::text').extract():\n",
    "                yield {'title': post_title}"
   ]
  },
  {
   "cell_type": "code",
   "execution_count": 5,
   "metadata": {},
   "outputs": [],
   "source": [
    "# 커멘드에서 아래 코드 실행\n",
    "# scrapy runspider myspider.py -o items.jl "
   ]
  },
  {
   "cell_type": "code",
   "execution_count": null,
   "metadata": {},
   "outputs": [],
   "source": []
  }
 ],
 "metadata": {
  "interpreter": {
   "hash": "06bd07306e9b2b6229802c49eadff885ff6c2df640a4573743c3207a9a2e5f8b"
  },
  "kernelspec": {
   "display_name": "Python 3.8.13 ('scraping')",
   "language": "python",
   "name": "python3"
  },
  "language_info": {
   "codemirror_mode": {
    "name": "ipython",
    "version": 3
   },
   "file_extension": ".py",
   "mimetype": "text/x-python",
   "name": "python",
   "nbconvert_exporter": "python",
   "pygments_lexer": "ipython3",
   "version": "3.8.13"
  },
  "orig_nbformat": 4
 },
 "nbformat": 4,
 "nbformat_minor": 2
}
