{
 "cells": [
  {
   "cell_type": "code",
   "execution_count": 60,
   "metadata": {},
   "outputs": [],
   "source": [
    "import requests\n",
    "import lxml.html"
   ]
  },
  {
   "cell_type": "code",
   "execution_count": 61,
   "metadata": {},
   "outputs": [
    {
     "name": "stdout",
     "output_type": "stream",
     "text": [
      "/store/books/look.php?p_code=B1207366943\n",
      "javascript:;\n",
      "/store/books/look.php?p_code=B1207366943\n",
      "/store/books/look.php?p_code=B6334451644\n",
      "javascript:;\n",
      "/store/books/look.php?p_code=B6334451644\n",
      "/store/books/look.php?p_code=B9882279606\n",
      "javascript:;\n",
      "/store/books/look.php?p_code=B9882279606\n",
      "/store/books/look.php?p_code=B4597837371\n"
     ]
    }
   ],
   "source": [
    "# 이렇게 하면 javascript 코드가 같이 출력됩니다.\n",
    "response = requests.get('http://www.hanbit.co.kr/store/books/new_book_list.html')\n",
    "root = lxml.html.fromstring(response.content)\n",
    "\n",
    "count = 0\n",
    "for a in root.cssselect('.view_box a'):\n",
    "    count += 1\n",
    "    url = a.get('href')\n",
    "    print(url)\n",
    "    if count >= 10: break"
   ]
  },
  {
   "cell_type": "code",
   "execution_count": 62,
   "metadata": {},
   "outputs": [
    {
     "name": "stdout",
     "output_type": "stream",
     "text": [
      "https://www.hanbit.co.kr/store/books/look.php?p_code=B1207366943\n",
      "https://www.hanbit.co.kr/store/books/look.php?p_code=B6334451644\n",
      "https://www.hanbit.co.kr/store/books/look.php?p_code=B9882279606\n",
      "https://www.hanbit.co.kr/store/books/look.php?p_code=B4597837371\n",
      "https://www.hanbit.co.kr/store/books/look.php?p_code=B6493543959\n",
      "https://www.hanbit.co.kr/store/books/look.php?p_code=B2885456605\n",
      "https://www.hanbit.co.kr/store/books/look.php?p_code=B3346434043\n",
      "https://www.hanbit.co.kr/store/books/look.php?p_code=B9103889809\n",
      "https://www.hanbit.co.kr/store/books/look.php?p_code=B1913587019\n",
      "https://www.hanbit.co.kr/store/books/look.php?p_code=B6446476778\n"
     ]
    }
   ],
   "source": [
    "response = requests.get('http://www.hanbit.co.kr/store/books/new_book_list.html')\n",
    "root = lxml.html.fromstring(response.content)\n",
    "\n",
    "# 모든 링크를 절대 URL로 변환합니다.\n",
    "root.make_links_absolute(response.url)\n",
    "\n",
    "# 선택자를 추가해서 명확한 선택을 할 수 있게 합니다.\n",
    "count = 0\n",
    "for a in root.cssselect('.view_box .book_tit a'):\n",
    "    count += 1\n",
    "    url = a.get('href')\n",
    "    print(url)\n",
    "    if count >= 10: break"
   ]
  },
  {
   "cell_type": "code",
   "execution_count": 63,
   "metadata": {},
   "outputs": [
    {
     "name": "stdout",
     "output_type": "stream",
     "text": [
      "https://www.hanbit.co.kr/store/books/look.php?p_code=B1207366943\n",
      "https://www.hanbit.co.kr/store/books/look.php?p_code=B6334451644\n",
      "https://www.hanbit.co.kr/store/books/look.php?p_code=B9882279606\n",
      "https://www.hanbit.co.kr/store/books/look.php?p_code=B4597837371\n",
      "https://www.hanbit.co.kr/store/books/look.php?p_code=B6493543959\n",
      "https://www.hanbit.co.kr/store/books/look.php?p_code=B2885456605\n",
      "https://www.hanbit.co.kr/store/books/look.php?p_code=B3346434043\n",
      "https://www.hanbit.co.kr/store/books/look.php?p_code=B9103889809\n",
      "https://www.hanbit.co.kr/store/books/look.php?p_code=B1913587019\n",
      "https://www.hanbit.co.kr/store/books/look.php?p_code=B6446476778\n",
      "https://www.hanbit.co.kr/store/books/look.php?p_code=B2831223974\n",
      "https://www.hanbit.co.kr/store/books/look.php?p_code=B3180984708\n",
      "https://www.hanbit.co.kr/store/books/look.php?p_code=B2949290774\n",
      "https://www.hanbit.co.kr/store/books/look.php?p_code=B9483006177\n",
      "https://www.hanbit.co.kr/store/books/look.php?p_code=B8613567974\n",
      "https://www.hanbit.co.kr/store/books/look.php?p_code=B7550382130\n",
      "https://www.hanbit.co.kr/store/books/look.php?p_code=B1519857692\n",
      "https://www.hanbit.co.kr/store/books/look.php?p_code=B5725043400\n",
      "https://www.hanbit.co.kr/store/books/look.php?p_code=B9078925849\n",
      "https://www.hanbit.co.kr/store/books/look.php?p_code=B5658376953\n"
     ]
    }
   ],
   "source": [
    "def main():\n",
    "    \"\"\"\n",
    "    크롤러의 메인 처리\n",
    "    \"\"\"\n",
    "    # 여러 페이지에서 크롤링할 것이므로 Session을 사용합니다.\n",
    "    session = requests.Session()  \n",
    "    # scrape_list_page() 함수를 호출해서 제너레이터를 추출합니다.\n",
    "    response = session.get('http://www.hanbit.co.kr/store/books/new_book_list.html')\n",
    "    urls = scrape_list_page(response)\n",
    "    # 제너레이터는 list처럼 사용할 수 있습니다.\n",
    "    for url in urls:\n",
    "        print(url)\n",
    "\n",
    "def scrape_list_page(response):\n",
    "    root = lxml.html.fromstring(response.content)\n",
    "    root.make_links_absolute(response.url)\n",
    "    for a in root.cssselect('.view_box .book_tit a'):\n",
    "        url = a.get('href')\n",
    "        # yield 구문으로 제너레이터의 요소 반환\n",
    "        yield url\n",
    "\n",
    "if __name__ == '__main__':\n",
    "    main()"
   ]
  },
  {
   "cell_type": "markdown",
   "metadata": {},
   "source": [
    "추출하고 싶은 요소와 CSS 선택자는 다음과 같습니다.\n",
    "타이틀 : .store_product_info_box h3  \n",
    "가격 : .pbr strong  \n",
    "목차 : #abs_3 .hanbit_edit_view 내부의 p태그들"
   ]
  },
  {
   "cell_type": "code",
   "execution_count": 64,
   "metadata": {},
   "outputs": [
    {
     "name": "stdout",
     "output_type": "stream",
     "text": [
      "{'url': 'https://www.hanbit.co.kr/store/books/look.php?p_code=B1207366943', 'title': '구글 엔지니어는 이렇게 일한다', 'price': '40,500', 'content': ['', '\\r\\n\\t\\t\\t[Part I 전제]\\r\\n', '\\xa0', '\\r\\n\\t\\t\\tCHAPTER 1 소프트웨어 엔지니어링이란?\\r\\n', '1.1 시간과 변경', '1.2 규모 확장과 효율성', '1.3 트레이드오프와 비용', '1.4 소프트웨어 엔지니어링 vs 프로그래밍', '1.5 마치며', '1.6 핵심 정리', '\\xa0', '\\xa0', '\\r\\n\\t\\t\\t[Part II 문화]\\r\\n', '\\xa0', '\\r\\n\\t\\t\\tCHAPTER 2 팀워크 이끌어내기\\r\\n', '2.1 내 코드를 숨기고 싶어요', '2.2 천재 신화', '2.3 숨기는 건 해롭다', '2.4 모든 건 팀에 달렸다', '2.5 마치며', '2.6 핵심 정리', '\\xa0', '\\r\\n\\t\\t\\tCHAPTER 3 지식 공유\\r\\n', '3.1 배움을 가로막는 장애물', '3.2 철학', '3.3 판 깔아주기: 심리적 안전', '3.4 내 지식 키우기', '3.5 질문 확장하기: 커뮤니티에 묻기', '3.6 지식 확장하기: 누구나 가르칠 게 있다', '3.7 조직의 지식 확장하기', '3.8 가독성 제도: 코드 리뷰를 통한 표준 멘토 제도', '3.9 마치며', '3.10 핵심 정리', '\\xa0', '\\r\\n\\t\\t\\tCHAPTER 4 공정 사회를 위한 엔지니어링\\r\\n', '4.1 편견은 피할 수 없다', '4.2 다양성이 필요한 이유 이해하기', '4.3 다문화 역량 갖추기', '4.4 다양성 실천하기', '4.5 단일한 접근 방식 거부하기', '4.6 확립된 프로세스에 도전하기', '4.7 가치 vs 결과', '4.8 관심을 잃지 말고 전진하자', '4.9 마치며', '4.10 핵심 정리', '\\xa0', '\\r\\n\\t\\t\\tCHAPTER 5 팀 이끌기\\r\\n', '5.1 관리자와 테크 리드(혹은 둘 다)', '5.2 개인 기여자에서 리더로', '5.3 엔지니어링 관리자', '5.4 안티패턴', '5.5 올바른 패턴', '5.6 예상 못한 질문', '5.7 그 외 조언과 요령', '5.8 사람은 식물과 같다', '5.9 마치며', '5.10 핵심 정리', '\\xa0', '\\r\\n\\t\\t\\tCHAPTER 6 성장하는 조직 이끌기\\r\\n', '6.1 늘 결정하라(Always Be Deciding)', '6.2 늘 떠나라(Always Be Leaving)', '6.3 늘 확장하라(Always Be Scaling)', '6.4 마치며', '6.5 핵심 정리', '\\xa0', '\\r\\n\\t\\t\\tCHAPTER 7 엔지니어링 생산성 측정하기\\r\\n', '7.1 엔지니어링 생산성을 측정하는 이유', '7.2 선별: 측정할 가치가 있는가?', '7.3 GSM 프레임워크: 목표와 신호를 뒷받침하는 의미 있는 지표 선정하기', '7.4 목표(goal)', '7.5 신호(signal)', '7.6 지표(metric)', '7.7 데이터로 지표 검증하기', '7.8 조치를 취하고 결과 추적하기', '7.9 마치며', '7.10 핵심 정리', '\\xa0', '\\xa0', '\\r\\n\\t\\t\\t[Part III 프로세스]\\r\\n', '\\xa0', '\\r\\n\\t\\t\\tCHAPTER 8 스타일 가이드와 규칙\\r\\n', '8.1 규칙이 필요한 이유', '8.2 규칙 만들기', '8.3 규칙 수정하기', '8.4 지침', '8.5 규칙 적용하기', '8.6 마치며', '8.7 핵심 정리', '\\xa0', '\\r\\n\\t\\t\\tCHAPTER 9 코드 리뷰\\r\\n', '9.1 코드 리뷰 흐름', '9.2 코드 리뷰 @ 구글', '9.3 코드 리뷰의 이점', '9.4 코드 리뷰 모범 사례', '9.5 코드 리뷰 유형', '9.6 마치며', '9.7 핵심 정리', '\\xa0', '\\r\\n\\t\\t\\tCHAPTER 10 문서자료\\r\\n', '10.1 문서자료란?', '10.2 문서자료가 필요한 이유', '10.3 문서자료는 코드와 같다', '10.4 독자를 알라', '10.5 문서자료 유형', '10.6 문서자료 리뷰', '10.7 문서화 철학', '10.8 테크니컬 라이터가 필요한 순간', '10.9 마치며', '10.10 핵심 정리', '\\r\\n\\t\\t\\t\\r\\n', '\\r\\n\\t\\t\\tCHAPTER 11 테스트 개요\\r\\n', '11.1 테스트를 작성하는 이유', '11.2 테스트 스위트 설계하기', '11.3 구글 규모의 테스트', '11.4 구글의 테스트 역사', '11.5 자동 테스트의 한계', '11.6 마치며', '11.7 핵심 정리', '\\xa0', '\\r\\n\\t\\t\\tCHAPTER 12 단위 테스트\\r\\n', '12.1 유지보수하기 쉬워야 한다', '12.2 깨지기 쉬운 테스트 예방하기', '12.3 명확한 테스트 작성하기', '12.4 테스트와 코드 공유: DRY가 아니라 DAMP!', '12.5 마치며', '12.6 핵심 정리', '\\xa0', '\\r\\n\\t\\t\\tCHAPTER 13 테스트 대역\\r\\n', '13.1 테스트 대역이 소프트웨어 개발에 미치는 영향', '13.2 테스트 대역 @ 구글', '13.3 기본 개념', '13.4 테스트 대역 활용 기법', '13.5 실제 구현', '13.6 속이기(가짜 객체)', '13.7 뭉개기(스텁)', '13.8 상호작용 테스트하기', '13.9 마치며', '13.10 핵심 정리', '\\xa0', '\\r\\n\\t\\t\\tCHAPTER 14 더 큰 테스트\\r\\n', '14.1 더 큰 테스트란?', '14.2 더 큰 테스트 @ 구글', '14.3 큰 테스트의 구조', '14.4 더 큰 테스트 유형', '14.5 큰 테스트와 개발자 워크플로', '14.6 마치며', '14.7 핵심 정리', '\\xa0', '\\r\\n\\t\\t\\tCHAPTER 15 폐기\\r\\n', '15.1 폐기시키는 이유', '15.2 폐기는 왜 그리 어려운가?', '15.3 폐기 유형', '15.4 폐기 프로세스 관리', '15.5 마치며', '15.6 핵심 정리', '\\r\\n\\t\\t\\t\\r\\n', '\\xa0', '\\r\\n\\t\\t\\t[Part IV 도구]\\r\\n', '\\xa0', '\\r\\n\\t\\t\\tCHAPTER 16 버전 관리와 브랜치 관리\\r\\n', '16.1 버전 관리란?', '16.2 브랜치 관리', '16.3 버전 관리 @ 구글', '16.4 모노리포(단일 리포지터리)', '16.5 버전 관리의 미래', '16.6 마치며', '16.7 핵심 정리', '\\xa0', '\\r\\n\\t\\t\\tCHAPTER 17 Code Search\\r\\n', '17.1 Code Search UI', '17.2 구글 개발자가 Code Search를 이용하는 방법', '17.3 독립된 웹 도구로 만든 이유', '17.4 규모가 설계에 미치는 영향', '17.5 구글은 어떻게 구현했나?', '17.6 구글이 선택한 트레이드오프', '17.7 마치며', '17.8 핵심 정리', '\\xa0', '\\r\\n\\t\\t\\tCHAPTER 18 빌드 시스템과 빌드 철학\\r\\n', '18.1 빌드 시스템의 목적', '18.2 빌드 시스템이 없다면?', '18.3 모던 빌드 시스템', '18.4 모듈과 의존성 다루기', '18.5 마치며', '18.6 핵심 정리', '\\xa0', '\\r\\n\\t\\t\\tCHAPTER 19 Critique: 구글의 코드 리뷰 도구\\r\\n', '19.1 코드 리뷰 도구 원칙', '19.2 코드 리뷰 흐름', '19.3 1단계: 변경 생성', '19.4 2단계: 리뷰 요청', '19.5 3~4단계: 변경 이해하고 댓글 달기', '19.6 5단계: 변경 승인(변경에 점수 매기기)', '19.7 6단계: 변경 커밋', '19.8 마치며', '19.9 핵심 정리', '\\xa0', '\\r\\n\\t\\t\\tCHAPTER 20 정적 분석\\r\\n', '20.1 효과적인 정적 분석의 특징', '20.2 정적 분석을 적용하며 깨우친 핵심 교훈', '20.3 Tricorder: 구글의 정적 분석 플랫폼', '20.4 마치며', '20.5 핵심 정리', '\\xa0', '\\r\\n\\t\\t\\tCHAPTER 21 의존성 관리\\r\\n', '21.1 의존성 관리가 어려운 이유', '21.2 의존성 임포트하기', '21.3 (이론상의) 의존성 관리', '21.4 유의적 버전의 한계', '21.5 자원이 무한할 때의 의존성 관리', '21.6 마치며', '21.7 핵심 정리', '\\xa0', '\\r\\n\\t\\t\\tCHAPTER 22 대규모 변경\\r\\n', '22.1 대규모 변경이란?', '22.2 누가 대규모 변경을 처리하나?', '22.3 원자적 변경을 가로막는 요인', '22.4 대규모 변경 인프라', '22.5 대규모 변경 프로세스', '22.6 마치며', '22.7 핵심 정리', '\\xa0', '\\r\\n\\t\\t\\tCHAPTER 23 지속적 통합\\r\\n', '23.1 지속적 통합이란?', '23.2 지속적 통합 @ 구글', '23.3 마치며', '23.4 핵심 정리', '\\xa0', '\\r\\n\\t\\t\\tCHAPTER 24 지속적 배포\\r\\n', '24.1 지속적 배포 이디엄 @ 구글', '24.2 속도는 팀 스포츠다: 배포를 관리 가능한 조각으로 나누기', '24.3 변경을 격리해 평가하자: 기능 플래그로 보호하기', '24.4 기민해지기 위한 분투: 릴리스 열차 갖추기', '24.5 품질과 사용자에 집중: 사용할 기능만 배포하자', '24.6 원점 회귀: 데이터에 기초해 더 일찍 결정하자', '24.7 팀 문화 바꾸기: 배포 규율 세우기', '24.8 마치며', '24.9 핵심 정리', '\\xa0', '\\r\\n\\t\\t\\tCHAPTER 25 서비스형 컴퓨트\\r\\n', '25.1 컴퓨트 환경 길들이기', '25.2 관리형 컴퓨트에 적합한 소프트웨어 작성하기', '25.3 시간과 규모에 따른 CaaS', '25.4 컴퓨트 서비스 선택하기', '25.5 마치며', '25.6 핵심 정리']}\n"
     ]
    }
   ],
   "source": [
    "import requests\n",
    "import lxml.html\n",
    "\n",
    "def main():\n",
    "    # 여러 페이지에서 크롤링할 것이므로 Session을 사용합니다.\n",
    "    session = requests.Session() \n",
    "    response = session.get('http://www.hanbit.co.kr/store/books/new_book_list.html')\n",
    "    urls = scrape_list_page(response)\n",
    "    for url in urls:\n",
    "        response = session.get(url)  # Session을 사용해 상세 페이지를 추출합니다.\n",
    "        ebook = scrape_detail_page(response)  # 상세 페이지에서 상세 정보를 추출합니다.\n",
    "        print(ebook)  # 책 관련 정보를 출력합니다.\n",
    "        break  # 책 한 권이 제대로 되는지 확인하고 종료합니다.\n",
    "\n",
    "# book_tit의 a태그에 해당하는 url을 뱉어냄\n",
    "def scrape_list_page(response):\n",
    "    root = lxml.html.fromstring(response.content)\n",
    "    root.make_links_absolute(response.url)\n",
    "    for a in root.cssselect('.view_box .book_tit a'):\n",
    "        url = a.get('href')\n",
    "        yield url\n",
    "\n",
    "def scrape_detail_page(response):\n",
    "    \"\"\"\n",
    "    상세 페이지의 Response에서 책 정보를 dict로 추출합니다.\n",
    "    \"\"\"\n",
    "    root = lxml.html.fromstring(response.content)\n",
    "    ebook = {\n",
    "        'url': response.url,\n",
    "        'title': root.cssselect('.store_product_info_box h3')[0].text_content(),\n",
    "        'price': root.cssselect('.pbr strong')[0].text_content(),\n",
    "        'content': [p.text_content()\\\n",
    "            for p in root.cssselect('#tabs_3 .hanbit_edit_view p')]\n",
    "    }\n",
    "    return ebook\n",
    "\n",
    "if __name__ == '__main__':\n",
    "    main()"
   ]
  },
  {
   "cell_type": "code",
   "execution_count": 65,
   "metadata": {},
   "outputs": [
    {
     "name": "stdout",
     "output_type": "stream",
     "text": [
      "구글 엔지니어는 이렇게 일한다\n",
      "40,500\n"
     ]
    }
   ],
   "source": [
    "session = requests.Session()\n",
    "url = 'https://www.hanbit.co.kr/store/books/look.php?p_code=B1207366943'\n",
    "response = session.get(url)\n",
    "root = lxml.html.fromstring(response.content)\n",
    "print(root.cssselect('.store_product_info_box h3')[0].text_content())\n",
    "print(root.cssselect('.pbr strong')[0].text_content())"
   ]
  },
  {
   "cell_type": "markdown",
   "metadata": {},
   "source": [
    "## 공백 제거하기"
   ]
  },
  {
   "cell_type": "markdown",
   "metadata": {},
   "source": [
    "위에서 추출한 정보에는 공백과 의미 없는 문자열이 섞여있습니다. 정규식을 사용해 공백과 빈 문자열을 제거합니다."
   ]
  },
  {
   "cell_type": "code",
   "execution_count": 66,
   "metadata": {},
   "outputs": [
    {
     "name": "stdout",
     "output_type": "stream",
     "text": [
      "{'url': 'https://www.hanbit.co.kr/store/books/look.php?p_code=B1207366943', 'title': '구글 엔지니어는 이렇게 일한다', 'price': '40,500', 'content': ['[Part I 전제]', 'CHAPTER 1 소프트웨어 엔지니어링이란?', '1.1 시간과 변경', '1.2 규모 확장과 효율성', '1.3 트레이드오프와 비용', '1.4 소프트웨어 엔지니어링 vs 프로그래밍', '1.5 마치며', '1.6 핵심 정리', '[Part II 문화]', 'CHAPTER 2 팀워크 이끌어내기', '2.1 내 코드를 숨기고 싶어요', '2.2 천재 신화', '2.3 숨기는 건 해롭다', '2.4 모든 건 팀에 달렸다', '2.5 마치며', '2.6 핵심 정리', 'CHAPTER 3 지식 공유', '3.1 배움을 가로막는 장애물', '3.2 철학', '3.3 판 깔아주기: 심리적 안전', '3.4 내 지식 키우기', '3.5 질문 확장하기: 커뮤니티에 묻기', '3.6 지식 확장하기: 누구나 가르칠 게 있다', '3.7 조직의 지식 확장하기', '3.8 가독성 제도: 코드 리뷰를 통한 표준 멘토 제도', '3.9 마치며', '3.10 핵심 정리', 'CHAPTER 4 공정 사회를 위한 엔지니어링', '4.1 편견은 피할 수 없다', '4.2 다양성이 필요한 이유 이해하기', '4.3 다문화 역량 갖추기', '4.4 다양성 실천하기', '4.5 단일한 접근 방식 거부하기', '4.6 확립된 프로세스에 도전하기', '4.7 가치 vs 결과', '4.8 관심을 잃지 말고 전진하자', '4.9 마치며', '4.10 핵심 정리', 'CHAPTER 5 팀 이끌기', '5.1 관리자와 테크 리드(혹은 둘 다)', '5.2 개인 기여자에서 리더로', '5.3 엔지니어링 관리자', '5.4 안티패턴', '5.5 올바른 패턴', '5.6 예상 못한 질문', '5.7 그 외 조언과 요령', '5.8 사람은 식물과 같다', '5.9 마치며', '5.10 핵심 정리', 'CHAPTER 6 성장하는 조직 이끌기', '6.1 늘 결정하라(Always Be Deciding)', '6.2 늘 떠나라(Always Be Leaving)', '6.3 늘 확장하라(Always Be Scaling)', '6.4 마치며', '6.5 핵심 정리', 'CHAPTER 7 엔지니어링 생산성 측정하기', '7.1 엔지니어링 생산성을 측정하는 이유', '7.2 선별: 측정할 가치가 있는가?', '7.3 GSM 프레임워크: 목표와 신호를 뒷받침하는 의미 있는 지표 선정하기', '7.4 목표(goal)', '7.5 신호(signal)', '7.6 지표(metric)', '7.7 데이터로 지표 검증하기', '7.8 조치를 취하고 결과 추적하기', '7.9 마치며', '7.10 핵심 정리', '[Part III 프로세스]', 'CHAPTER 8 스타일 가이드와 규칙', '8.1 규칙이 필요한 이유', '8.2 규칙 만들기', '8.3 규칙 수정하기', '8.4 지침', '8.5 규칙 적용하기', '8.6 마치며', '8.7 핵심 정리', 'CHAPTER 9 코드 리뷰', '9.1 코드 리뷰 흐름', '9.2 코드 리뷰 @ 구글', '9.3 코드 리뷰의 이점', '9.4 코드 리뷰 모범 사례', '9.5 코드 리뷰 유형', '9.6 마치며', '9.7 핵심 정리', 'CHAPTER 10 문서자료', '10.1 문서자료란?', '10.2 문서자료가 필요한 이유', '10.3 문서자료는 코드와 같다', '10.4 독자를 알라', '10.5 문서자료 유형', '10.6 문서자료 리뷰', '10.7 문서화 철학', '10.8 테크니컬 라이터가 필요한 순간', '10.9 마치며', '10.10 핵심 정리', 'CHAPTER 11 테스트 개요', '11.1 테스트를 작성하는 이유', '11.2 테스트 스위트 설계하기', '11.3 구글 규모의 테스트', '11.4 구글의 테스트 역사', '11.5 자동 테스트의 한계', '11.6 마치며', '11.7 핵심 정리', 'CHAPTER 12 단위 테스트', '12.1 유지보수하기 쉬워야 한다', '12.2 깨지기 쉬운 테스트 예방하기', '12.3 명확한 테스트 작성하기', '12.4 테스트와 코드 공유: DRY가 아니라 DAMP!', '12.5 마치며', '12.6 핵심 정리', 'CHAPTER 13 테스트 대역', '13.1 테스트 대역이 소프트웨어 개발에 미치는 영향', '13.2 테스트 대역 @ 구글', '13.3 기본 개념', '13.4 테스트 대역 활용 기법', '13.5 실제 구현', '13.6 속이기(가짜 객체)', '13.7 뭉개기(스텁)', '13.8 상호작용 테스트하기', '13.9 마치며', '13.10 핵심 정리', 'CHAPTER 14 더 큰 테스트', '14.1 더 큰 테스트란?', '14.2 더 큰 테스트 @ 구글', '14.3 큰 테스트의 구조', '14.4 더 큰 테스트 유형', '14.5 큰 테스트와 개발자 워크플로', '14.6 마치며', '14.7 핵심 정리', 'CHAPTER 15 폐기', '15.1 폐기시키는 이유', '15.2 폐기는 왜 그리 어려운가?', '15.3 폐기 유형', '15.4 폐기 프로세스 관리', '15.5 마치며', '15.6 핵심 정리', '[Part IV 도구]', 'CHAPTER 16 버전 관리와 브랜치 관리', '16.1 버전 관리란?', '16.2 브랜치 관리', '16.3 버전 관리 @ 구글', '16.4 모노리포(단일 리포지터리)', '16.5 버전 관리의 미래', '16.6 마치며', '16.7 핵심 정리', 'CHAPTER 17 Code Search', '17.1 Code Search UI', '17.2 구글 개발자가 Code Search를 이용하는 방법', '17.3 독립된 웹 도구로 만든 이유', '17.4 규모가 설계에 미치는 영향', '17.5 구글은 어떻게 구현했나?', '17.6 구글이 선택한 트레이드오프', '17.7 마치며', '17.8 핵심 정리', 'CHAPTER 18 빌드 시스템과 빌드 철학', '18.1 빌드 시스템의 목적', '18.2 빌드 시스템이 없다면?', '18.3 모던 빌드 시스템', '18.4 모듈과 의존성 다루기', '18.5 마치며', '18.6 핵심 정리', 'CHAPTER 19 Critique: 구글의 코드 리뷰 도구', '19.1 코드 리뷰 도구 원칙', '19.2 코드 리뷰 흐름', '19.3 1단계: 변경 생성', '19.4 2단계: 리뷰 요청', '19.5 3~4단계: 변경 이해하고 댓글 달기', '19.6 5단계: 변경 승인(변경에 점수 매기기)', '19.7 6단계: 변경 커밋', '19.8 마치며', '19.9 핵심 정리', 'CHAPTER 20 정적 분석', '20.1 효과적인 정적 분석의 특징', '20.2 정적 분석을 적용하며 깨우친 핵심 교훈', '20.3 Tricorder: 구글의 정적 분석 플랫폼', '20.4 마치며', '20.5 핵심 정리', 'CHAPTER 21 의존성 관리', '21.1 의존성 관리가 어려운 이유', '21.2 의존성 임포트하기', '21.3 (이론상의) 의존성 관리', '21.4 유의적 버전의 한계', '21.5 자원이 무한할 때의 의존성 관리', '21.6 마치며', '21.7 핵심 정리', 'CHAPTER 22 대규모 변경', '22.1 대규모 변경이란?', '22.2 누가 대규모 변경을 처리하나?', '22.3 원자적 변경을 가로막는 요인', '22.4 대규모 변경 인프라', '22.5 대규모 변경 프로세스', '22.6 마치며', '22.7 핵심 정리', 'CHAPTER 23 지속적 통합', '23.1 지속적 통합이란?', '23.2 지속적 통합 @ 구글', '23.3 마치며', '23.4 핵심 정리', 'CHAPTER 24 지속적 배포', '24.1 지속적 배포 이디엄 @ 구글', '24.2 속도는 팀 스포츠다: 배포를 관리 가능한 조각으로 나누기', '24.3 변경을 격리해 평가하자: 기능 플래그로 보호하기', '24.4 기민해지기 위한 분투: 릴리스 열차 갖추기', '24.5 품질과 사용자에 집중: 사용할 기능만 배포하자', '24.6 원점 회귀: 데이터에 기초해 더 일찍 결정하자', '24.7 팀 문화 바꾸기: 배포 규율 세우기', '24.8 마치며', '24.9 핵심 정리', 'CHAPTER 25 서비스형 컴퓨트', '25.1 컴퓨트 환경 길들이기', '25.2 관리형 컴퓨트에 적합한 소프트웨어 작성하기', '25.3 시간과 규모에 따른 CaaS', '25.4 컴퓨트 서비스 선택하기', '25.5 마치며', '25.6 핵심 정리']}\n"
     ]
    }
   ],
   "source": [
    "import re\n",
    "import requests\n",
    "import lxml.html\n",
    "\n",
    "import requests\n",
    "import lxml.html\n",
    "\n",
    "def main():\n",
    "    # 여러 페이지에서 크롤링할 것이므로 Session을 사용합니다.\n",
    "    session = requests.Session()  \n",
    "    response = session.get('http://www.hanbit.co.kr/store/books/new_book_list.html')\n",
    "    urls = scrape_list_page(response)\n",
    "    for url in urls:\n",
    "        response = session.get(url)  # Session을 사용해 상세 페이지를 추출합니다.\n",
    "        ebook = scrape_detail_page(response)  # 상세 페이지에서 상세 정보를 추출합니다.\n",
    "        print(ebook)  # 책 관련 정보를 출력합니다.\n",
    "        break  # 책 한 권이 제대로 되는지 확인하고 종료합니다.\n",
    "\n",
    "def scrape_list_page(response):\n",
    "    root = lxml.html.fromstring(response.content)\n",
    "    root.make_links_absolute(response.url)\n",
    "    for a in root.cssselect('.view_box .book_tit a'):\n",
    "        url = a.get('href')\n",
    "        yield url\n",
    "\n",
    "def scrape_detail_page(response):\n",
    "    \"\"\"\n",
    "    상세 페이지의 Response에서 책 정보를 dict로 추출합니다.\n",
    "    \"\"\"\n",
    "    root = lxml.html.fromstring(response.content)\n",
    "    ebook = {\n",
    "        'url': response.url,\n",
    "        'title': root.cssselect('.store_product_info_box h3')[0].text_content(),\n",
    "        'price': root.cssselect('.pbr strong')[0].text_content(),\n",
    "        'content': [normalize_spaces(p.text_content())\n",
    "            for p in root.cssselect('#tabs_3 .hanbit_edit_view p')\n",
    "            if normalize_spaces(p.text_content()) != '']\n",
    "    }\n",
    "    return ebook\n",
    "\n",
    "def normalize_spaces(s):\n",
    "    \"\"\"\n",
    "    연결돼 있는 공백을 하나의 공백으로 변경합니다.\n",
    "    \"\"\"\n",
    "    return re.sub(r'\\s+', ' ', s).strip()\n",
    "\n",
    "if __name__ == '__main__':\n",
    "    main()"
   ]
  },
  {
   "cell_type": "markdown",
   "metadata": {},
   "source": [
    "## 몽고DB에 저장하기"
   ]
  },
  {
   "cell_type": "code",
   "execution_count": 67,
   "metadata": {},
   "outputs": [],
   "source": [
    "import time\n",
    "import re \n",
    "import requests\n",
    "import lxml.html\n",
    "from pymongo import MongoClient\n",
    "\n",
    "def scrape_list_page(response):\n",
    "    \"\"\"\n",
    "    목록 페이지의 Response에서 상세 페이지의 URL을 추출합니다.\n",
    "    \"\"\"\n",
    "    root = lxml.html.fromstring(response.content)\n",
    "    root.make_links_absolute(response.url)\n",
    "    for a in root.cssselect('.view_box .book_tit a'):\n",
    "        url = a.get('href')\n",
    "        yield url\n",
    "\n",
    "def scrape_detail_page(response):\n",
    "    \"\"\"\n",
    "    상세 페이지의 Response에서 책 정보를 dict로 추출합니다.\n",
    "    \"\"\"\n",
    "    root = lxml.html.fromstring(response.content)\n",
    "    ebook = {\n",
    "        'url': response.url,\n",
    "        'key': extract_key(response.url),\n",
    "        'title': root.cssselect('.store_product_info_box h3')[0].text_content(),\n",
    "        'price': root.cssselect('.pbr strong')[0].text_content(),\n",
    "        'content': \"생략\"\n",
    "    }\n",
    "    return ebook\n",
    "\n",
    "def extract_key(url):\n",
    "    \"\"\"\n",
    "    URL에서 키(URL 끝의 p_code)를 추출합니다.\n",
    "    \"\"\"\n",
    "    m = re.search(r\"p_code=(.+)\", url)\n",
    "    return m.group(1)\n",
    "\n",
    "def normalize_spaces(s):\n",
    "    \"\"\"\n",
    "    연결돼 있는 공백을 하나의 공백으로 변경합니다.\n",
    "    \"\"\"\n",
    "    return re.sub(r'\\s+', ' ', s).strip()"
   ]
  },
  {
   "cell_type": "code",
   "execution_count": 68,
   "metadata": {},
   "outputs": [
    {
     "data": {
      "text/plain": [
       "'key_1'"
      ]
     },
     "execution_count": 68,
     "metadata": {},
     "output_type": "execute_result"
    }
   ],
   "source": [
    "client = MongoClient('localhost', 27017)\n",
    "# scraping 데이터베이스의 ebooks 콜렉션\n",
    "collection = client.scraping.ebooks\n",
    "# 데이터를 식별할 수 있는 유일키를 저장할 key 필드에 인덱스를 생성합니다.\n",
    "collection.create_index('key', unique=True)"
   ]
  },
  {
   "cell_type": "code",
   "execution_count": 69,
   "metadata": {},
   "outputs": [],
   "source": [
    "# 목록 페이지를 추출합니다.\n",
    "response = requests.get('http://www.hanbit.co.kr/store/books/new_book_list.html')\n",
    "# 상세 페이지 URL 목록을 추출합니다.\n",
    "urls = scrape_list_page(response)\n",
    "\n",
    "count = 0\n",
    "for url in urls:\n",
    "    # URL로 키를 추출합니다.\n",
    "    key = extract_key(url)\n",
    "    # MongoDB에서 key에 해당하는 데이터를 검색합니다.\n",
    "    ebook = collection.find_one({'key': key})\n",
    "    # MongoDB에 존재하지 않는 경우만 상세 페이지를 크롤링합니다.\n",
    "    if not ebook:\n",
    "        time.sleep(1)\n",
    "        response = requests.get(url)\n",
    "        ebook = scrape_detail_page(response)\n",
    "        # 책 정보를 MongoDB에 저장합니다.\n",
    "        collection.insert_one(ebook)\n",
    "        count += 1\n",
    "        if count >= 1: break\n",
    "    # 책 정보를 출력합니다.\n",
    "    print(ebook)"
   ]
  },
  {
   "cell_type": "code",
   "execution_count": 70,
   "metadata": {},
   "outputs": [
    {
     "data": {
      "text/plain": [
       "{'url': 'https://www.hanbit.co.kr/store/books/look.php?p_code=B1207366943',\n",
       " 'key': 'B1207366943',\n",
       " 'title': '구글 엔지니어는 이렇게 일한다',\n",
       " 'price': '40,500',\n",
       " 'content': '생략',\n",
       " '_id': ObjectId('6273a807a6b4092c15e62a33')}"
      ]
     },
     "execution_count": 70,
     "metadata": {},
     "output_type": "execute_result"
    }
   ],
   "source": [
    "ebook"
   ]
  },
  {
   "cell_type": "code",
   "execution_count": null,
   "metadata": {},
   "outputs": [],
   "source": []
  }
 ],
 "metadata": {
  "interpreter": {
   "hash": "cd76bd33397034e516dadf14e8d6d1e198d372403247a202e6f8414a37c5d387"
  },
  "kernelspec": {
   "display_name": "Python 3.8.13 ('scraping')",
   "language": "python",
   "name": "python3"
  },
  "language_info": {
   "codemirror_mode": {
    "name": "ipython",
    "version": 3
   },
   "file_extension": ".py",
   "mimetype": "text/x-python",
   "name": "python",
   "nbconvert_exporter": "python",
   "pygments_lexer": "ipython3",
   "version": "3.8.13"
  },
  "orig_nbformat": 4
 },
 "nbformat": 4,
 "nbformat_minor": 2
}
