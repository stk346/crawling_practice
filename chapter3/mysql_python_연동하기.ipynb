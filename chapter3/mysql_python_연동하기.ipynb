{
 "cells": [
  {
   "cell_type": "code",
   "execution_count": 2,
   "metadata": {},
   "outputs": [],
   "source": [
    "import pymysql"
   ]
  },
  {
   "cell_type": "markdown",
   "metadata": {},
   "source": [
    "먼저 mysql을 설치하고 환경설정을 합니다.  \n",
    "이후 root 유저 안에 scraper 스키마를 만들어줍니다."
   ]
  },
  {
   "cell_type": "code",
   "execution_count": 3,
   "metadata": {},
   "outputs": [
    {
     "name": "stdout",
     "output_type": "stream",
     "text": [
      "<pymysql.connections.Connection object at 0x000001BEE80EE160>\n"
     ]
    }
   ],
   "source": [
    "password=input()\n",
    "conn = pymysql.connect(user='root', passwd=password,\n",
    "                       host='localhost',\n",
    "                       port = 3306,\n",
    "                       db='scraper',\n",
    "                       charset='utf8mb4')\n",
    "\n",
    "print(conn)"
   ]
  },
  {
   "cell_type": "code",
   "execution_count": 6,
   "metadata": {},
   "outputs": [
    {
     "name": "stdout",
     "output_type": "stream",
     "text": [
      "(1, '상하이', 24150000)\n",
      "(2, '카라치', 23500000)\n",
      "(3, '베이징', 21516000)\n",
      "(4, '텐진', 14722100)\n",
      "(5, '이스탄불', 14160467)\n"
     ]
    }
   ],
   "source": [
    "# 커서를 추출합니다.\n",
    "c = conn.cursor()\n",
    "\n",
    "# execute() 메서드로 SQL 구문을 실행합니다.\n",
    "# 스크립트를 여러 번 사용해도 같은 결과를 출력할 수 있게 cities 테이블이 존재하는 경우 제거합니다.\n",
    "c.execute('DROP TABLE IF EXISTS cities')\n",
    "# cities 테이블을 생성합니다.\n",
    "c.execute('''\n",
    "    CREATE TABLE cities (\n",
    "        `rank` integer,\n",
    "        city text,\n",
    "        population integer\n",
    "    )\n",
    "''')\n",
    "\n",
    "# execute() 메서드의 두 번째 매개변수에는 파라미터를 지정할 수 있습니다.\n",
    "# SQL 내부에서 파라미터로 변경할 부분(플레이스홀더)은 %s로 지정합니다.\n",
    "c.execute('INSERT INTO cities VALUES (%s, %s, %s)', (1, '상하이', 24150000))\n",
    "\n",
    "# 파라미터가 딕셔너리일 때는 플레이스홀더를 %(<이름>)s 형태로 지정합니다.\n",
    "c.execute('INSERT INTO cities VALUES (%(rank)s, %(city)s, %(population)s)',\n",
    "          {'rank': 2, 'city': '카라치', 'population': 23500000})\n",
    "\n",
    "# executemany() 메서드를 사용하면 여러 개의 파라미터를 리스트로 지정해서\n",
    "# 여러 개(현재 예제에서는 3개)의 SQL 구문을 실행할 수 있습니다.\n",
    "c.executemany('INSERT INTO cities VALUES (%(rank)s, %(city)s, %(population)s)', [\n",
    "    {'rank': 3, 'city': '베이징', 'population': 21516000},\n",
    "    {'rank': 4, 'city': '텐진', 'population': 14722100},\n",
    "    {'rank': 5, 'city': '이스탄불', 'population': 14160467},\n",
    "])\n",
    "\n",
    "# 변경사항을 커밋(저장)합니다.\n",
    "conn.commit() \n",
    "\n",
    "# 저장한 데이터를 추출합니다.\n",
    "c.execute('SELECT * FROM cities')\n",
    "# 쿼리의 결과는 fetchall() 메서드로 추출할 수 있습니다.\n",
    "for row in c.fetchall():\n",
    "    # 추출한 데이터를 출력합니다.\n",
    "    print(row)\n",
    "\n",
    "# 연결을 닫습니다.\n",
    "conn.close()"
   ]
  },
  {
   "cell_type": "code",
   "execution_count": null,
   "metadata": {},
   "outputs": [],
   "source": []
  }
 ],
 "metadata": {
  "interpreter": {
   "hash": "4ac1268e549a599218e23e35927b25d49d23c6731ad57baf05716b2b803bbe36"
  },
  "kernelspec": {
   "display_name": "Python 3.9.7 ('base')",
   "language": "python",
   "name": "python3"
  },
  "language_info": {
   "codemirror_mode": {
    "name": "ipython",
    "version": 3
   },
   "file_extension": ".py",
   "mimetype": "text/x-python",
   "name": "python",
   "nbconvert_exporter": "python",
   "pygments_lexer": "ipython3",
   "version": "3.8.13"
  },
  "orig_nbformat": 4
 },
 "nbformat": 4,
 "nbformat_minor": 2
}
